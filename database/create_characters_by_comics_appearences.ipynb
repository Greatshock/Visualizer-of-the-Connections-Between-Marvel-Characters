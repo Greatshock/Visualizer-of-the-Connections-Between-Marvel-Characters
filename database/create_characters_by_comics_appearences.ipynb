{
 "cells": [
  {
   "cell_type": "code",
   "execution_count": 587,
   "metadata": {
    "collapsed": true
   },
   "outputs": [],
   "source": [
    "import json, hashlib, requests, json, time"
   ]
  },
  {
   "cell_type": "code",
   "execution_count": 588,
   "metadata": {
    "collapsed": true
   },
   "outputs": [],
   "source": [
    "# Marvel API data\n",
    "endpoint = \"https://gateway.marvel.com/v1/public/\"\n",
    "apiKey = \"6818695382c18243570eb27db6d83eb3\"\n",
    "privateKey = \"0ca11a0a359ac649d46d934064349266dde56d3d\"\n",
    "limit = \"100\""
   ]
  },
  {
   "cell_type": "code",
   "execution_count": 589,
   "metadata": {},
   "outputs": [],
   "source": [
    "comics = open('comics.json', 'r')\n",
    "comics_data = json.load(comics)\n",
    "comics.close()"
   ]
  },
  {
   "cell_type": "code",
   "execution_count": 590,
   "metadata": {
    "scrolled": true
   },
   "outputs": [
    {
     "name": "stdout",
     "output_type": "stream",
     "text": [
      "Started at: 1517043663.49079\n"
     ]
    }
   ],
   "source": [
    "started = time.time()\n",
    "print(\"Started at: \" + str(started))"
   ]
  },
  {
   "cell_type": "code",
   "execution_count": 591,
   "metadata": {},
   "outputs": [],
   "source": [
    "skipped_comics = [] # Array with id of comics which have more than 100 characters\n",
    "_cbc = []\n",
    "\n",
    "# Cycle through the database\n",
    "for comic in range(0, len(comics_data)):\n",
    "    \n",
    "    # Generate md5 hash from both api keys and timestamp\n",
    "    timestamp = str(int(time.time()))\n",
    "    hs = hashlib.md5(timestamp.encode('utf-8') + privateKey.encode('utf-8') + apiKey.encode('utf-8')).hexdigest()\n",
    "    \n",
    "    # Make the request\n",
    "    response = requests.get(endpoint + 'comics/' + str(comics_data[comic]['id']) + '/characters'\n",
    "                            + \"?\" + \"orderBy=name\"\n",
    "                            + \"&\" + \"limit=\" + limit\n",
    "                            + \"&\" + \"ts=\" + timestamp \n",
    "                            + \"&\" + \"apikey=\" + apiKey\n",
    "                            + \"&\" + \"hash=\" + hs)\n",
    "    \n",
    "    # Break if at least 1 \n",
    "    # request was unsuccessful\n",
    "    if(response.status_code != 200):\n",
    "        print(\"An error \" + str(response.status_code) + \" occured!\")\n",
    "        break\n",
    "    \n",
    "    # Extract the data about characters\n",
    "    data = response.json()['data']\n",
    "    \n",
    "    if data['count'] < data['total']:\n",
    "        skipped_comics.append(comic['id'])\n",
    "        continue\n",
    "    \n",
    "    _comic = {}\n",
    "    _comic['comic_id'] = comics_data[comic]['id']\n",
    "\n",
    "    results = data['results']\n",
    "    characters_ids = []\n",
    "    for character in results:\n",
    "        characters_ids.append(character['id'])\n",
    "    _comic['characters'] = characters_ids\n",
    "    \n",
    "    _cbc.append(_comic)\n",
    "    \n",
    "    # Sleep for some time\n",
    "    if ((comic % 50) == 0):\n",
    "        time.sleep(1)"
   ]
  },
  {
   "cell_type": "code",
   "execution_count": 592,
   "metadata": {},
   "outputs": [
    {
     "name": "stdout",
     "output_type": "stream",
     "text": [
      "Time elapsed: 5.83885733683904\n"
     ]
    }
   ],
   "source": [
    "finished = time.time()\n",
    "print(\"Time elapsed: \" + str((finished - started) / 60))"
   ]
  },
  {
   "cell_type": "code",
   "execution_count": 593,
   "metadata": {},
   "outputs": [],
   "source": [
    "cbc = open('characters_by_comics.json', 'w+')\n",
    "\n",
    "# Clear the file to update it\n",
    "cbc.seek(0)\n",
    "cbc.truncate()\n",
    "\n",
    "# Write to the file\n",
    "json.dump(_cbc, cbc, indent=2)\n",
    "\n",
    "cbc.close()"
   ]
  },
  {
   "cell_type": "code",
   "execution_count": 596,
   "metadata": {},
   "outputs": [
    {
     "name": "stdout",
     "output_type": "stream",
     "text": [
      "No comics were skipped\n"
     ]
    }
   ],
   "source": [
    "if(len(skipped_comics) > 0):\n",
    "    print(skipped_comics)\n",
    "else:\n",
    "    print(\"No comics were skipped\")"
   ]
  }
 ],
 "metadata": {
  "kernelspec": {
   "display_name": "Python 3",
   "language": "python",
   "name": "python3"
  }
 },
 "nbformat": 4,
 "nbformat_minor": 2
}
