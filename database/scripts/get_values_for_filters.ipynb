{
 "cells": [
  {
   "cell_type": "code",
   "execution_count": 181,
   "metadata": {
    "collapsed": true
   },
   "outputs": [],
   "source": [
    "import json"
   ]
  },
  {
   "cell_type": "code",
   "execution_count": 182,
   "metadata": {
    "collapsed": true
   },
   "outputs": [],
   "source": [
    "f = open('../characters_for_nodes.json')\n",
    "nodes = json.load(f)\n",
    "f.close()"
   ]
  },
  {
   "cell_type": "code",
   "execution_count": 183,
   "metadata": {
    "collapsed": true
   },
   "outputs": [],
   "source": [
    "genders = []\n",
    "orientations = []\n",
    "races = []\n",
    "citizenships = []"
   ]
  },
  {
   "cell_type": "code",
   "execution_count": 184,
   "metadata": {},
   "outputs": [],
   "source": [
    "for char in nodes:\n",
    "    if not char['gender'] in genders:\n",
    "        genders.append(char['gender'])\n",
    "    \n",
    "    if not char['orientation'] in orientations:\n",
    "        orientations.append(char['orientation'])\n",
    "    \n",
    "    if ' ' in char['race'] and 'mutate' not in char['race'] and 'hybrid' not in char['race'] and 'being' not in char['race']:\n",
    "            rcs = char['race'].split(' ')\n",
    "            for rc in rcs:\n",
    "                if not rc in races:\n",
    "                    races.append(rc)\n",
    "    else:\n",
    "        if not char['race'] in races:\n",
    "            races.append(char['race'])\n",
    "    \n",
    "    if ' ' in char['citizenship'] and 'Empire' not in char['citizenship'] and 'Dark Dimension' != char['citizenship'] and 'Lava Men' != char['citizenship']:\n",
    "            ctzs = char['citizenship'].split(' ')\n",
    "            for ctz in ctzs:\n",
    "                if not ctz in citizenships:\n",
    "                    citizenships.append(ctz)\n",
    "    else:\n",
    "        if not char['citizenship'] in citizenships:\n",
    "            citizenships.append(char['citizenship'])"
   ]
  },
  {
   "cell_type": "code",
   "execution_count": 185,
   "metadata": {},
   "outputs": [
    {
     "name": "stdout",
     "output_type": "stream",
     "text": [
      "Genders:\n",
      "['Agender', 'Female', 'Genderfluid', 'Male', 'N/A']\n"
     ]
    }
   ],
   "source": [
    "genders.sort()\n",
    "print('Genders:\\n' + str(genders))"
   ]
  },
  {
   "cell_type": "code",
   "execution_count": 186,
   "metadata": {},
   "outputs": [
    {
     "name": "stdout",
     "output_type": "stream",
     "text": [
      "Orientations:\n",
      "['Bisexual', 'Gay', 'Lesbian', 'N/A', 'Pansexual', 'Straight']\n"
     ]
    }
   ],
   "source": [
    "orientations.sort()\n",
    "print('Orientations:\\n' + str(orientations))"
   ]
  },
  {
   "cell_type": "code",
   "execution_count": 187,
   "metadata": {},
   "outputs": [
    {
     "name": "stdout",
     "output_type": "stream",
     "text": [
      "Races:\n",
      "['Arthrosian', 'Artificial being', 'Asgardian', 'Astran', 'Baluurian', 'Beyonder', 'Brood', 'Cyborg', 'Demon', 'Dog', 'Eternal', 'External', 'Faltine/Mhuruuk hybrid', 'Half-Otherwolder', 'Half-mutant', 'Half-vampire', 'Human', 'Human mutate', 'Human/Djinn hybrid', 'Inhuman', 'Insectivorid', 'Korbinite', 'Kree', 'Kree/cockroach hybrid', 'Kronan', 'Majesdanian', 'Mummudrai', 'Mutant', 'Mutant/Alien hybrid', 'N/A', 'Olympian', 'Olympian/Human hybrid', 'Robot', 'Sakaaran', 'Saurid', \"Shi'ar\", 'Skrull', 'Skrull/Kree hybrid', 'Titanian', 'Titanian/Kree hybrid', 'Vampire', 'Xandarian', 'Zombie']\n"
     ]
    }
   ],
   "source": [
    "races.sort()\n",
    "print('Races:\\n' + str(races))"
   ]
  },
  {
   "cell_type": "code",
   "execution_count": 188,
   "metadata": {},
   "outputs": [
    {
     "name": "stdout",
     "output_type": "stream",
     "text": [
      "Citizenships:\n",
      "['Argentina', 'Arthrosis', 'Asgard', 'Astra', 'Attilan', 'Austia', 'Australia', 'Austria', 'Baluur', 'Blood', 'Broodworld', 'Camelot', 'Canada', 'Croatia', 'Dark Dimension', 'Egypt', 'France', 'Germany', 'Greece', 'Haiti', 'Hell', 'India', 'Ireland', 'Italy', 'Japan', \"K'un-Lun\", 'Kaliklak', 'Korbin', 'Kree Empire', 'Lava Men', 'Majesdane', 'Mexico', 'Mojoworld', 'N/A', 'Nepal', 'Olympus', 'Polaria', 'Ria', 'Russia', 'Sakaaran', \"Shi'ar Empire\", 'Skrull Empire', 'Stateless', 'Switzerland', 'Tibet', 'Titan', 'U.S.A.', 'UK', 'USSR', 'Vietnam', 'Wakanda', 'Xandar']\n"
     ]
    }
   ],
   "source": [
    "citizenships.sort()\n",
    "print('Citizenships:\\n' + str(citizenships))"
   ]
  }
 ],
 "metadata": {
  "kernelspec": {
   "display_name": "Python 3",
   "language": "python",
   "name": "python3"
  },
  "language_info": {
   "codemirror_mode": {
    "name": "ipython",
    "version": 3
   },
   "file_extension": ".py",
   "mimetype": "text/x-python",
   "name": "python",
   "nbconvert_exporter": "python",
   "pygments_lexer": "ipython3",
   "version": "3.6.3"
  }
 },
 "nbformat": 4,
 "nbformat_minor": 2
}
