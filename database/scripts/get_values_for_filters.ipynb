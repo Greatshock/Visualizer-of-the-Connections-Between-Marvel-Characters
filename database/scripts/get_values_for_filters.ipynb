{
 "cells": [
  {
   "cell_type": "code",
   "execution_count": 107,
   "metadata": {
    "collapsed": true
   },
   "outputs": [],
   "source": [
    "import json"
   ]
  },
  {
   "cell_type": "code",
   "execution_count": 108,
   "metadata": {
    "collapsed": true
   },
   "outputs": [],
   "source": [
    "f = open('../characters_for_nodes.json')\n",
    "nodes = json.load(f)\n",
    "f.close()"
   ]
  },
  {
   "cell_type": "code",
   "execution_count": 109,
   "metadata": {
    "collapsed": true
   },
   "outputs": [],
   "source": [
    "genders = []\n",
    "orientations = []\n",
    "races = []\n",
    "citizenships = []"
   ]
  },
  {
   "cell_type": "code",
   "execution_count": 110,
   "metadata": {},
   "outputs": [],
   "source": [
    "for char in nodes:\n",
    "    if not char['gender'] in genders:\n",
    "        genders.append(char['gender'])\n",
    "    \n",
    "    if not char['orientation'] in orientations:\n",
    "        orientations.append(char['orientation'])\n",
    "    \n",
    "    if ' ' in char['race'] and char['race'] != 'Human mutate' and 'hybrid' not in char['race'] and 'being' not in char['race']:\n",
    "            rcs = char['race'].split(' ')\n",
    "            for rc in rcs:\n",
    "                if not rc in races:\n",
    "                    races.append(rc)\n",
    "    else:\n",
    "        if not char['race'] in races:\n",
    "            races.append(char['race'])\n",
    "    \n",
    "    if ' ' in char['citizenship'] and 'Empire' not in char['citizenship'] and 'Dark Dimension' != char['citizenship'] and 'Lava Men' != char['citizenship']:\n",
    "            ctzs = char['citizenship'].split(' ')\n",
    "            for ctz in ctzs:\n",
    "                if not ctz in citizenships:\n",
    "                    citizenships.append(ctz)\n",
    "    else:\n",
    "        if not char['citizenship'] in citizenships:\n",
    "            citizenships.append(char['citizenship'])"
   ]
  },
  {
   "cell_type": "code",
   "execution_count": 111,
   "metadata": {},
   "outputs": [
    {
     "name": "stdout",
     "output_type": "stream",
     "text": [
      "Genders:\n",
      "['Male', 'N/A', 'Female', 'Agender', 'Genderfluid']\n"
     ]
    }
   ],
   "source": [
    "print('Genders:\\n' + str(genders))"
   ]
  },
  {
   "cell_type": "code",
   "execution_count": 112,
   "metadata": {},
   "outputs": [
    {
     "name": "stdout",
     "output_type": "stream",
     "text": [
      "Orientations:\n",
      "['Straight', 'N/A', 'Lesbian', 'Gay', 'Bisexual', 'Pansexual']\n"
     ]
    }
   ],
   "source": [
    "print('Orientations:\\n' + str(orientations))"
   ]
  },
  {
   "cell_type": "code",
   "execution_count": 113,
   "metadata": {},
   "outputs": [
    {
     "name": "stdout",
     "output_type": "stream",
     "text": [
      "Races:\n",
      "['Human', 'N/A', 'Mutant/Alien hybrid', 'Eternal', 'Xandarian', 'Human mutate', 'Asgardian', 'Arthrosian', 'Mutant', 'Olympian', 'Human/Djinn hybrid', 'Skrull', 'Robot', 'Korbinite', 'Beyonder', 'Inhuman', 'Demon', 'Half-vampire', 'Baluurian', 'Vampire', 'mutated', 'Brood', 'Insectivorid', 'Titanian', 'Kree', 'Titanian/Kree hybrid', 'Cyborg', 'Mummudrai', \"Shi'ar\", 'Saurid', 'Faltine/Mhuruuk hybrid', 'Zombie', 'Dog', 'External', 'Artificial being', 'Olympian/Human hybrid', 'Sakaaran', 'Skrull/Kree hybrid', 'Scrull', 'Majesdanian', 'Kronan', 'Kree/cockroach hybrid', 'Astran', 'Half-Otherwolder', 'Half-mutant']\n"
     ]
    }
   ],
   "source": [
    "print('Races:\\n' + str(races))"
   ]
  },
  {
   "cell_type": "code",
   "execution_count": 114,
   "metadata": {},
   "outputs": [
    {
     "name": "stdout",
     "output_type": "stream",
     "text": [
      "Citizenships:\n",
      "['U.S.A.', 'Croatia', 'N/A', 'UK', 'Stateless', 'Polaria', 'Xandar', 'Lava Men', 'Japan', 'France', 'Asgard', 'Egypt', 'Tibet', 'Arthrosis', 'Olympus', 'Switzerland', 'Canada', 'Ireland', 'Germany', 'Skrull Empire', 'Vietnam', 'Korbin', \"Shi'ar Empire\", 'Attilan', 'Camelot', 'Wakanda', 'Argentina', 'U.S.A', 'Russia', 'USSR', 'Hell', 'Baluur', 'Australia', 'Nepal', 'Broodworld', 'Haiti', 'Kaliklak', 'Titan', 'Kree Empire', 'Blood', 'Italy', 'Dark Dimension', 'Austia', 'India', 'Greece', 'Sakaaran', \"K'un-Lun\", 'Scrull Empire', 'Majesdane', 'Ria', 'Astra', 'Austria', 'Mexico', 'Mojoworld', 'Asgardian']\n"
     ]
    }
   ],
   "source": [
    "print('Citizenships:\\n' + str(citizenships))"
   ]
  }
 ],
 "metadata": {
  "kernelspec": {
   "display_name": "Python 3",
   "language": "python",
   "name": "python3"
  },
  "language_info": {
   "codemirror_mode": {
    "name": "ipython",
    "version": 3
   },
   "file_extension": ".py",
   "mimetype": "text/x-python",
   "name": "python",
   "nbconvert_exporter": "python",
   "pygments_lexer": "ipython3",
   "version": "3.6.3"
  }
 },
 "nbformat": 4,
 "nbformat_minor": 2
}
