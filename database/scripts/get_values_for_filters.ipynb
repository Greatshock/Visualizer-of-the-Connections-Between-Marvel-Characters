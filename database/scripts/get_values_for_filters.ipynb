{
 "cells": [
  {
   "cell_type": "code",
   "execution_count": 25,
   "metadata": {
    "collapsed": true
   },
   "outputs": [],
   "source": [
    "import json"
   ]
  },
  {
   "cell_type": "code",
   "execution_count": 26,
   "metadata": {
    "collapsed": true
   },
   "outputs": [],
   "source": [
    "f = open('../characters_for_nodes.json')\n",
    "nodes = json.load(f)\n",
    "f.close()"
   ]
  },
  {
   "cell_type": "code",
   "execution_count": 27,
   "metadata": {
    "collapsed": true
   },
   "outputs": [],
   "source": [
    "genders = []\n",
    "orientations = []\n",
    "races = ['All']\n",
    "citizenships = ['All']"
   ]
  },
  {
   "cell_type": "code",
   "execution_count": 28,
   "metadata": {
    "collapsed": true
   },
   "outputs": [],
   "source": [
    "for char in nodes:\n",
    "    if not char['gender'] in genders:\n",
    "        genders.append(char['gender'])\n",
    "    \n",
    "    if not char['orientation'] in orientations:\n",
    "        orientations.append(char['orientation'])\n",
    "    \n",
    "    if '|' in char['race']:\n",
    "            rcs = char['race'].split('|')\n",
    "            for rc in rcs:\n",
    "                if not rc in races:\n",
    "                    races.append(rc)\n",
    "    else:\n",
    "        if not char['race'] in races:\n",
    "            races.append(char['race'])\n",
    "    \n",
    "    if '|' in char['citizenship']:\n",
    "            ctzs = char['citizenship'].split('|')\n",
    "            for ctz in ctzs:\n",
    "                if not ctz in citizenships:\n",
    "                    citizenships.append(ctz)\n",
    "    else:\n",
    "        if not char['citizenship'] in citizenships:\n",
    "            citizenships.append(char['citizenship'])"
   ]
  },
  {
   "cell_type": "code",
   "execution_count": 29,
   "metadata": {},
   "outputs": [
    {
     "name": "stdout",
     "output_type": "stream",
     "text": [
      "Genders:\n",
      "['Agender', 'Female', 'Genderfluid', 'Male', 'N/A']\n"
     ]
    }
   ],
   "source": [
    "genders.sort()\n",
    "print('Genders:\\n' + str(genders))"
   ]
  },
  {
   "cell_type": "code",
   "execution_count": 30,
   "metadata": {},
   "outputs": [
    {
     "name": "stdout",
     "output_type": "stream",
     "text": [
      "Orientations:\n",
      "['Bisexual', 'Gay', 'Lesbian', 'N/A', 'Pansexual', 'Straight']\n"
     ]
    }
   ],
   "source": [
    "orientations.sort()\n",
    "print('Orientations:\\n' + str(orientations))"
   ]
  },
  {
   "cell_type": "code",
   "execution_count": 31,
   "metadata": {},
   "outputs": [
    {
     "name": "stdout",
     "output_type": "stream",
     "text": [
      "Races:\n",
      "['Abstract entity', 'Alien', 'Alien/Human hybrid', 'All', 'Android', 'Arthrosian', 'Artificial being', 'Asgardian', 'Astran', 'Ataraxian', 'Baluurian', 'Beyonder', 'Breakworldian', 'Brood', 'Cat', 'Celestial', 'Chaos sprite', 'Clone', 'Cosmic being', 'Cyborg', 'Daeva', 'Deity', 'Demon', 'Deviant hybrid', 'Devil beast', 'Dinosaur', 'Dog', 'Duckworldian', 'Elan', 'Entity', 'Eternal', 'Ethereal', 'External', 'Faltine', 'Faltine/Mhuruuk hybrid', 'Flock', 'Flora colossus', 'Ghost', 'God', 'Halfworlder', 'Hellbent', 'Homo supreme', 'Human', 'Human cursed', 'Human enhanced', 'Human immortal', 'Human mutate', 'Human/Atlantean hybrid', 'Human/Deity hybrid', 'Human/Demon hybrid', 'Human/Djinn hybrid', 'Human/Spartoi hybrid', 'Human/Vampire hybrid', 'Inhuman', 'Insectivorid', 'Intelligent', 'Korbinite', 'Kree', 'Kree/Cockroach hybrid', 'Kronan', 'Landlak', 'Lava men', 'Laxidazian', 'Lizard', 'Luphomoid', 'Magician', 'Majesdanian', 'Makluan', 'Mephitisoid', 'Mojoworlder', 'Mongoose', 'Mummudrai', 'Mummy', 'Mutant', 'Mutant depowered', 'Mutant enhanced', 'Mutant/Alien hybrid', 'N/A', 'New men', 'Olympian', 'Olympian/Human hybrid', 'Otherwolder/Mutant hybrid', 'Panspermian', 'Planet', 'Poppupian', 'Rat', 'Rigellian', 'Robot', 'Rock Troll', 'Sakaaran', 'Saurid', 'Savage land mutate', 'Sentinel', 'Shadow People', 'Shadow People/Human hybrid', \"Shi'ar\", \"Shi'ar/Mutant hybrid\", 'Siren', 'Skrull', 'Skrull/Kree hybrid', 'Sleepwalker', 'Sorcerer', 'Squirrel', 'Symbiote host', 'Synthezoid', 'Taa-an', 'Talisman', 'Technarch', 'Tiger', 'Titanian', 'Titanian/Kree hybrid', 'Traanian', 'Undead', 'Valkyrie', 'Vampire', 'Watcher', 'Xandarian', 'Zen Whoberian', 'Zenn-Lavian', 'Zombie']\n"
     ]
    }
   ],
   "source": [
    "races.sort()\n",
    "print('Races:\\n' + str(races))"
   ]
  },
  {
   "cell_type": "code",
   "execution_count": 32,
   "metadata": {},
   "outputs": [
    {
     "name": "stdout",
     "output_type": "stream",
     "text": [
      "Citizenships:\n",
      "['Acturus', 'Afghanistan', 'Algeria', 'All', 'Argentina', 'Arthrosis', 'Asgard', 'Astra', 'Ataraxia', 'Atlantic ocean', 'Atlantis', 'Attilan', 'Australia', 'Austria', 'Baluur', 'Belgium', 'Blood', 'Bosnia and Herzegovina', 'Brazil', 'Breakworld', 'Broodworld', 'Cambodia', 'Camelot', 'Canada', 'Celestial', 'China', 'Costa Verde', 'Croatia', 'Dark Dimension', 'Delvadia', 'Domain of the Trolls', 'Dream Dimension', 'Duckworld', 'Egypt', 'Elan', 'Ethereals', 'Flock', 'France', 'Germany', 'Greece', 'Haiti', 'Halfworld', 'Hell', 'Hunan Pacha', 'Hungary', 'India', 'Ireland', 'Israel', 'Italy', 'Japan', \"K'un-Lun\", 'Kakaranthara', 'Kaliklak', 'Korbin', 'Krauncha', 'Kree Empire', 'Kvch', 'Landlak', 'Latveria', 'Lava Men', 'Laxidazia', 'Limbo', 'Luphom', 'Madripoor', 'Majesdane', 'Mexico', 'Mindscape', 'Mojoworld', 'Monaco', 'Moon', 'N/A', 'Negative zone', 'Nepal', 'Netherlands', 'New Attilan', 'New Men', 'Nucleus of Hope', 'Olympia', 'Panto-9', 'Planet X', 'Poland', 'Polaria', 'Poppup', 'Pralagon System', 'Puerto Rico', 'Ria', 'Rigellian Empire', 'Roman Empire', 'Romania', 'Russia', 'Sakaar', 'Savage land', 'Serbia', \"Shi'ar Empire\", 'Singapore', 'Skrull Empire', 'Slovakia', 'South Korea', 'Spain', 'Srenesk', 'Stygian', 'Subterranea', 'Sudan', 'Switzerland', 'Symkaria', 'Taa', 'Technarchy', 'Tibet', 'Tiger Island', 'Titan', 'Traan', 'Transia', 'Transylvania', 'UK', 'USA', 'United Sisterhood Republic', 'Venezuela', 'Vietnam', 'Wakanda', 'Watchers', 'Xandar', \"Z'Gambo\", 'Zen-Whoberi', 'Zenn-La']\n"
     ]
    }
   ],
   "source": [
    "citizenships.sort()\n",
    "print('Citizenships:\\n' + str(citizenships))"
   ]
  }
 ],
 "metadata": {
  "kernelspec": {
   "display_name": "Python 3",
   "language": "python",
   "name": "python3"
  },
  "language_info": {
   "codemirror_mode": {
    "name": "ipython",
    "version": 3
   },
   "file_extension": ".py",
   "mimetype": "text/x-python",
   "name": "python",
   "nbconvert_exporter": "python",
   "pygments_lexer": "ipython3",
   "version": "3.6.3"
  }
 },
 "nbformat": 4,
 "nbformat_minor": 2
}
