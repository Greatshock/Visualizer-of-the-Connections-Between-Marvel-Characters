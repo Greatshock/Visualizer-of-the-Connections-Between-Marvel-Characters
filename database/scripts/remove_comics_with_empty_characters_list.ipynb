{
 "cells": [
  {
   "cell_type": "code",
   "execution_count": 3,
   "metadata": {
    "collapsed": true
   },
   "outputs": [],
   "source": [
    "import json"
   ]
  },
  {
   "cell_type": "code",
   "execution_count": 4,
   "metadata": {},
   "outputs": [],
   "source": [
    "cbc_full = open('../characters_by_comics_full.json', 'r')\n",
    "cbc_data = json.load(cbc_full)\n",
    "cbc_full.close()"
   ]
  },
  {
   "cell_type": "code",
   "execution_count": 5,
   "metadata": {
    "collapsed": true
   },
   "outputs": [],
   "source": [
    "new_cbc_data = []\n",
    "\n",
    "for comic in cbc_data:\n",
    "    if len(comic['characters']) != 0:\n",
    "        new_cbc_data.append(comic)"
   ]
  },
  {
   "cell_type": "code",
   "execution_count": 6,
   "metadata": {
    "collapsed": true
   },
   "outputs": [],
   "source": [
    "cbc = open('../characters_by_comics.json', 'w')\n",
    "cbc.seek(0)\n",
    "cbc.truncate()\n",
    "\n",
    "json.dump(new_cbc_data, cbc, indent=2) \n",
    "cbc.close()"
   ]
  },
  {
   "cell_type": "code",
   "execution_count": 7,
   "metadata": {},
   "outputs": [
    {
     "name": "stdout",
     "output_type": "stream",
     "text": [
      "17346 have been deleted\n"
     ]
    }
   ],
   "source": [
    "print(str(len(cbc_data) - len(new_cbc_data)) + ' have been deleted')"
   ]
  }
 ],
 "metadata": {
  "kernelspec": {
   "display_name": "Python 3",
   "language": "python",
   "name": "python3"
  },
  "language_info": {
   "codemirror_mode": {
    "name": "ipython",
    "version": 3
   },
   "file_extension": ".py",
   "mimetype": "text/x-python",
   "name": "python",
   "nbconvert_exporter": "python",
   "pygments_lexer": "ipython3",
   "version": "3.6.3"
  }
 },
 "nbformat": 4,
 "nbformat_minor": 2
}
