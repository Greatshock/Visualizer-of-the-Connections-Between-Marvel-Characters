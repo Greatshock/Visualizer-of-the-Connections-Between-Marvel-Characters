{
 "cells": [
  {
   "cell_type": "code",
   "execution_count": null,
   "metadata": {
    "collapsed": true
   },
   "outputs": [],
   "source": [
    "import json"
   ]
  },
  {
   "cell_type": "code",
   "execution_count": null,
   "metadata": {
    "collapsed": true
   },
   "outputs": [],
   "source": [
    "wiki_f = open('../characters.json')\n",
    "wiki = json.load(wiki_f);\n",
    "wiki_f.close()"
   ]
  },
  {
   "cell_type": "code",
   "execution_count": null,
   "metadata": {},
   "outputs": [],
   "source": [
    "node_f = open('../characters_for_nodes.json', 'r+')\n",
    "nodes = json.load(node_f)"
   ]
  },
  {
   "cell_type": "code",
   "execution_count": null,
   "metadata": {
    "collapsed": true
   },
   "outputs": [],
   "source": [
    "for i in range(0, len(nodes)):\n",
    "    char = nodes[i]\n",
    "    char['wikiUrl'] = ''\n",
    "    for j in range(0, len(wiki)):\n",
    "        if(wiki[j]['id'] == char['id']):\n",
    "            urls = wiki[j]['urls']\n",
    "            for k in range(0, len(urls)):\n",
    "                if(urls[k]['type'] == 'wiki'):\n",
    "                    char['wikiUrl'] = urls[k]['url']\n",
    "                    break\n",
    "            break"
   ]
  },
  {
   "cell_type": "code",
   "execution_count": null,
   "metadata": {
    "collapsed": true
   },
   "outputs": [],
   "source": [
    "node_f.seek(0)\n",
    "node_f.truncate()\n",
    "\n",
    "# Write to the file\n",
    "json.dump(nodes, node_f, indent=2)\n",
    "node_f.close()"
   ]
  },
  {
   "cell_type": "code",
   "execution_count": 70,
   "metadata": {},
   "outputs": [
    {
     "name": "stdout",
     "output_type": "stream",
     "text": [
      "Added Marvel wiki links\n"
     ]
    }
   ],
   "source": [
    "print('Added Marvel wiki links')"
   ]
  }
 ],
 "metadata": {
  "kernelspec": {
   "display_name": "Python 3",
   "language": "python",
   "name": "python3"
  },
  "language_info": {
   "codemirror_mode": {
    "name": "ipython",
    "version": 3
   },
   "file_extension": ".py",
   "mimetype": "text/x-python",
   "name": "python",
   "nbconvert_exporter": "python",
   "pygments_lexer": "ipython3",
   "version": "3.6.3"
  }
 },
 "nbformat": 4,
 "nbformat_minor": 2
}
