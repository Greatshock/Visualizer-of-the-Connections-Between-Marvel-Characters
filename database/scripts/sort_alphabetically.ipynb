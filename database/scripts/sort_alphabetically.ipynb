{
 "cells": [
  {
   "cell_type": "code",
   "execution_count": 1,
   "metadata": {
    "collapsed": true
   },
   "outputs": [],
   "source": [
    "import json"
   ]
  },
  {
   "cell_type": "code",
   "execution_count": 2,
   "metadata": {
    "collapsed": true
   },
   "outputs": [],
   "source": [
    "f = open('../characters_for_nodes.json')\n",
    "nodes = json.load(f)\n",
    "f.close()"
   ]
  },
  {
   "cell_type": "code",
   "execution_count": 3,
   "metadata": {
    "collapsed": true
   },
   "outputs": [],
   "source": [
    "for i in range(0, len(nodes)):\n",
    "    for j in range(0, len(nodes)):\n",
    "        if nodes[j]['name'] > nodes[i]['name']:\n",
    "            t = nodes[j]\n",
    "            nodes[j] = nodes[i]\n",
    "            nodes[i] = t"
   ]
  },
  {
   "cell_type": "code",
   "execution_count": 4,
   "metadata": {},
   "outputs": [
    {
     "name": "stdout",
     "output_type": "stream",
     "text": [
      "Characters sorted alphabetically\n"
     ]
    }
   ],
   "source": [
    "f = open('../characters_for_nodes.json', 'w')\n",
    "f.seek(0)\n",
    "f.truncate()\n",
    "json.dump(nodes, f, indent=2)      \n",
    "f.close()\n",
    "\n",
    "print('Characters sorted alphabetically')"
   ]
  }
 ],
 "metadata": {
  "kernelspec": {
   "display_name": "Python 3",
   "language": "python",
   "name": "python3"
  },
  "language_info": {
   "codemirror_mode": {
    "name": "ipython",
    "version": 3
   },
   "file_extension": ".py",
   "mimetype": "text/x-python",
   "name": "python",
   "nbconvert_exporter": "python",
   "pygments_lexer": "ipython3",
   "version": "3.6.3"
  }
 },
 "nbformat": 4,
 "nbformat_minor": 2
}
