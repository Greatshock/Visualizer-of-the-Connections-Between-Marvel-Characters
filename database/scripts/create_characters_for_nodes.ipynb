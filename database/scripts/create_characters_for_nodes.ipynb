{
 "cells": [
  {
   "cell_type": "code",
   "execution_count": 73,
   "metadata": {
    "collapsed": true
   },
   "outputs": [],
   "source": [
    "import json"
   ]
  },
  {
   "cell_type": "code",
   "execution_count": 74,
   "metadata": {
    "collapsed": true
   },
   "outputs": [],
   "source": [
    "f = open('../characters.json', 'r')\n",
    "c_data = json.load(f)\n",
    "f.close()\n",
    "\n",
    "f = open('../links_between_characters.json', 'r')\n",
    "l_data = json.load(f)\n",
    "f.close()"
   ]
  },
  {
   "cell_type": "code",
   "execution_count": 75,
   "metadata": {},
   "outputs": [
    {
     "name": "stdout",
     "output_type": "stream",
     "text": [
      "ok\n"
     ]
    }
   ],
   "source": [
    "nodes = []\n",
    "for i in range(0, len(c_data)):\n",
    "    character = c_data[i]\n",
    "    char = {}\n",
    "    char['id'] = character['id']\n",
    "    char['name'] = character['name']\n",
    "    char['description'] = character['description']\n",
    "    \n",
    "    links_count = 0\n",
    "    for j in range(0, len(l_data)):\n",
    "        link = l_data[j]\n",
    "        if((link['source'] == character['id']) or (link['target'] == character['id'])):\n",
    "            links_count = links_count + 1\n",
    "    char['linksCount'] = links_count\n",
    "    \n",
    "    nodes.append(char)\n",
    "\n",
    "print('ok')"
   ]
  },
  {
   "cell_type": "code",
   "execution_count": 76,
   "metadata": {},
   "outputs": [
    {
     "name": "stdout",
     "output_type": "stream",
     "text": [
      "Nodes created\n"
     ]
    }
   ],
   "source": [
    "f = open('../characters_for_nodes.json', 'w')\n",
    "f.seek(0)\n",
    "f.truncate()\n",
    "json.dump(nodes, f, indent=2)\n",
    "f.close()\n",
    "print('Nodes created')"
   ]
  }
 ],
 "metadata": {
  "kernelspec": {
   "display_name": "Python 3",
   "language": "python",
   "name": "python3"
  },
  "language_info": {
   "codemirror_mode": {
    "name": "ipython",
    "version": 3
   },
   "file_extension": ".py",
   "mimetype": "text/x-python",
   "name": "python",
   "nbconvert_exporter": "python",
   "pygments_lexer": "ipython3",
   "version": "3.6.3"
  }
 },
 "nbformat": 4,
 "nbformat_minor": 2
}
