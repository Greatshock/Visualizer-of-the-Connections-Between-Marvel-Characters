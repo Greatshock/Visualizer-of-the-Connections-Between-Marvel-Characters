{
 "cells": [
  {
   "cell_type": "code",
   "execution_count": 55,
   "metadata": {
    "collapsed": true
   },
   "outputs": [],
   "source": [
    "import json"
   ]
  },
  {
   "cell_type": "code",
   "execution_count": 56,
   "metadata": {},
   "outputs": [],
   "source": [
    "cbc = open('../characters_by_comics.json', 'r')\n",
    "data = json.load(cbc)\n",
    "cbc.close()\n",
    "\n",
    "links = []"
   ]
  },
  {
   "cell_type": "code",
   "execution_count": 57,
   "metadata": {},
   "outputs": [],
   "source": [
    "def linkExists(link):\n",
    "    exists = False\n",
    "    for i in range(0, len(links)):\n",
    "        _link = links[i]\n",
    "        if ((_link['source'] == link['source']) and (_link['target'] == link['target'])):\n",
    "            exists = True\n",
    "        if ((_link['source'] == link['target']) and (_link['target'] == link['source'])):\n",
    "            exists = True\n",
    "    return exists        "
   ]
  },
  {
   "cell_type": "code",
   "execution_count": null,
   "metadata": {},
   "outputs": [],
   "source": [
    "for i in range(0, len(data)):\n",
    "    comic = data[i]\n",
    "    comic_id = comic['comic_id']\n",
    "    characters = comic['characters']\n",
    "    for j in range(0, len(characters)):\n",
    "        for k in range(j+1, len(characters)):\n",
    "            # Create new link\n",
    "            link = {}\n",
    "            link['source'] = characters[j]\n",
    "            link['target'] = characters[k]\n",
    "            link['linkType'] = 'appearInOneComic'\n",
    "            # Check if the link exists\n",
    "            if not linkExists(link):\n",
    "                links.append(link)\n",
    "print('finished')"
   ]
  },
  {
   "cell_type": "code",
   "execution_count": 62,
   "metadata": {},
   "outputs": [],
   "source": [
    "# Clear the file to update it\n",
    "l = open('../links_between_characters.json', 'w')\n",
    "l.seek(0)\n",
    "l.truncate()\n",
    "\n",
    "# Write to the file\n",
    "json.dump(links, l, indent=2)"
   ]
  },
  {
   "cell_type": "code",
   "execution_count": 63,
   "metadata": {
    "collapsed": true
   },
   "outputs": [],
   "source": [
    "l.close()"
   ]
  },
  {
   "cell_type": "code",
   "execution_count": 64,
   "metadata": {},
   "outputs": [
    {
     "name": "stdout",
     "output_type": "stream",
     "text": [
      "Created  38716  links!\n"
     ]
    }
   ],
   "source": [
    "print('Created ', len(links), ' links!')"
   ]
  }
 ],
 "metadata": {
  "kernelspec": {
   "display_name": "Python 3",
   "language": "python",
   "name": "python3"
  },
  "language_info": {
   "codemirror_mode": {
    "name": "ipython",
    "version": 3
   },
   "file_extension": ".py",
   "mimetype": "text/x-python",
   "name": "python",
   "nbconvert_exporter": "python",
   "pygments_lexer": "ipython3",
   "version": "3.6.3"
  }
 },
 "nbformat": 4,
 "nbformat_minor": 2
}
