{
 "cells": [
  {
   "cell_type": "code",
   "execution_count": 24,
   "metadata": {
    "collapsed": true
   },
   "outputs": [],
   "source": [
    "import json"
   ]
  },
  {
   "cell_type": "code",
   "execution_count": 25,
   "metadata": {},
   "outputs": [
    {
     "name": "stdout",
     "output_type": "stream",
     "text": [
      "ok\n"
     ]
    }
   ],
   "source": [
    "# Remove redundant info from characters.json\n",
    "c = open('../characters.json', 'r+')\n",
    "chars = json.load(c)\n",
    "\n",
    "c.seek(0)\n",
    "c.truncate()\n",
    "\n",
    "required = ['id', 'name', 'description', 'urls']\n",
    "for comic in comics:\n",
    "    for key in list(comic):\n",
    "        if not (key in required):\n",
    "            del comic[key]\n",
    "                \n",
    "json.dump(chars, c, indent=2)      \n",
    "c.close()\n",
    "\n",
    "print('ok')"
   ]
  },
  {
   "cell_type": "code",
   "execution_count": 26,
   "metadata": {},
   "outputs": [
    {
     "name": "stdout",
     "output_type": "stream",
     "text": [
      "ok\n"
     ]
    }
   ],
   "source": [
    "# Remove redundant info from comics.json\n",
    "c = open('../comics.json', 'r+')\n",
    "comics = json.load(c)\n",
    "\n",
    "c.seek(0)\n",
    "c.truncate()\n",
    "\n",
    "required = ['id', 'title']\n",
    "for comic in comics:\n",
    "    for key in list(comic):\n",
    "        if not (key in required):\n",
    "            del comic[key]\n",
    "                \n",
    "json.dump(comics, c, indent=2)      \n",
    "c.close()\n",
    "\n",
    "print('ok')"
   ]
  }
 ],
 "metadata": {
  "kernelspec": {
   "display_name": "Python 3",
   "language": "python",
   "name": "python3"
  },
  "language_info": {
   "codemirror_mode": {
    "name": "ipython",
    "version": 3
   },
   "file_extension": ".py",
   "mimetype": "text/x-python",
   "name": "python",
   "nbconvert_exporter": "python",
   "pygments_lexer": "ipython3",
   "version": "3.6.3"
  }
 },
 "nbformat": 4,
 "nbformat_minor": 2
}
