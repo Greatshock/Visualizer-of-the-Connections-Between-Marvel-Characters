{
 "cells": [
  {
   "cell_type": "code",
   "execution_count": 117,
   "metadata": {
    "collapsed": true
   },
   "outputs": [],
   "source": [
    "import json"
   ]
  },
  {
   "cell_type": "code",
   "execution_count": 118,
   "metadata": {
    "collapsed": true
   },
   "outputs": [],
   "source": [
    "cbc_f = open('../characters_by_comics.json')\n",
    "cbc = json.load(cbc_f)\n",
    "cbc_f.close()\n",
    "\n",
    "comics_f = open('../comics.json')\n",
    "comics = json.load(comics_f)\n",
    "comics_f.close()"
   ]
  },
  {
   "cell_type": "code",
   "execution_count": 119,
   "metadata": {},
   "outputs": [
    {
     "name": "stdout",
     "output_type": "stream",
     "text": [
      "18273\n",
      "9483\n"
     ]
    }
   ],
   "source": [
    "print(len(cbc))\n",
    "new_cbc = []\n",
    "for comic in cbc:\n",
    "    if len(comic['characters']) > 1:\n",
    "        new_comic = {}\n",
    "        new_comic['id'] = comic['comic_id']\n",
    "        new_comic['characters'] = comic['characters']\n",
    "        new_cbc.append(new_comic)\n",
    "print(len(new_cbc))"
   ]
  },
  {
   "cell_type": "code",
   "execution_count": 120,
   "metadata": {
    "collapsed": true
   },
   "outputs": [],
   "source": [
    "for comic in new_cbc:\n",
    "    for c in comics:\n",
    "        if comic['id'] == c['id']:\n",
    "            comic['title'] = c['title']"
   ]
  },
  {
   "cell_type": "code",
   "execution_count": 121,
   "metadata": {
    "collapsed": true
   },
   "outputs": [],
   "source": [
    "cbc_f = open('../characters_by_comics.json', 'w')\n",
    "cbc_f.seek(0)\n",
    "cbc_f.truncate()\n",
    "json.dump(new_cbc, cbc_f, indent=2)\n",
    "cbc_f.close()"
   ]
  }
 ],
 "metadata": {
  "kernelspec": {
   "display_name": "Python 3",
   "language": "python",
   "name": "python3"
  },
  "language_info": {
   "codemirror_mode": {
    "name": "ipython",
    "version": 3
   },
   "file_extension": ".py",
   "mimetype": "text/x-python",
   "name": "python",
   "nbconvert_exporter": "python",
   "pygments_lexer": "ipython3",
   "version": "3.6.3"
  }
 },
 "nbformat": 4,
 "nbformat_minor": 2
}
