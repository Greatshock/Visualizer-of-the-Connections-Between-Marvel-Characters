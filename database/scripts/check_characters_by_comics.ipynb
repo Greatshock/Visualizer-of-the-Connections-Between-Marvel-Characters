{
 "cells": [
  {
   "cell_type": "code",
   "execution_count": 37,
   "metadata": {
    "collapsed": true
   },
   "outputs": [],
   "source": [
    "import json"
   ]
  },
  {
   "cell_type": "code",
   "execution_count": 38,
   "metadata": {},
   "outputs": [],
   "source": [
    "cbc = open('../characters_by_comics.json', 'r+')\n",
    "cbc_data = json.load(cbc)\n",
    "\n",
    "comics = open('../comics.json', 'r')\n",
    "comics_data = json.load(comics)"
   ]
  },
  {
   "cell_type": "code",
   "execution_count": 39,
   "metadata": {},
   "outputs": [
    {
     "name": "stdout",
     "output_type": "stream",
     "text": [
      "OK: Number of records is the same\n"
     ]
    }
   ],
   "source": [
    "test1 = True\n",
    "\n",
    "if len(cbc_data) == len(comics_data):\n",
    "    print('OK: Number of records is the same')\n",
    "else:\n",
    "    test1 = False\n",
    "    print('ERROR: NUMBERS ARE NOT THE SAME')"
   ]
  },
  {
   "cell_type": "code",
   "execution_count": 40,
   "metadata": {},
   "outputs": [
    {
     "name": "stdout",
     "output_type": "stream",
     "text": [
      "OK: all ids are correct\n"
     ]
    }
   ],
   "source": [
    "if test1 == True:\n",
    "    \n",
    "    test2 = True\n",
    "    for i in range (0, len(comics_data)):\n",
    "        if cbc_data[i]['comic_id'] != comics_data[i]['id']:\n",
    "            test2 = False\n",
    "            print('ERROR: ' + str(cbc_data[i]['comic_id'] + ' != ' + str(comics_data[i]['id'])))\n",
    "            break\n",
    "            \n",
    "    if test2 == True:\n",
    "        print('OK: all ids are correct')"
   ]
  },
  {
   "cell_type": "code",
   "execution_count": 41,
   "metadata": {
    "collapsed": true
   },
   "outputs": [],
   "source": [
    "cbc.close()"
   ]
  }
 ],
 "metadata": {
  "kernelspec": {
   "display_name": "Python 3",
   "language": "python",
   "name": "python3"
  },
  "language_info": {
   "codemirror_mode": {
    "name": "ipython",
    "version": 3
   },
   "file_extension": ".py",
   "mimetype": "text/x-python",
   "name": "python",
   "nbconvert_exporter": "python",
   "pygments_lexer": "ipython3",
   "version": "3.6.3"
  }
 },
 "nbformat": 4,
 "nbformat_minor": 2
}
