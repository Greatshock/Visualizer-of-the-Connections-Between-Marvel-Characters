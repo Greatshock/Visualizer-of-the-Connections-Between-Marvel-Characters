{
 "cells": [
  {
   "cell_type": "code",
   "execution_count": 1,
   "metadata": {
    "collapsed": true
   },
   "outputs": [],
   "source": [
    "import json"
   ]
  },
  {
   "cell_type": "code",
   "execution_count": 2,
   "metadata": {
    "collapsed": true
   },
   "outputs": [],
   "source": [
    "idsForDeletion = [\n",
    "    1009144, 1011367, 1009487, 1010685, 1015280, 1010806,\n",
    "    1017292, 1011387, 1009496, 1010757, 1011083, 1009732,\n",
    "    1017294, 1017316, 1011421, 1011351, 1011294, 1010698,\n",
    "    1017295, 1011023, 1011408, 1011388, 1011295, 1011277,\n",
    "    1017296, 1011107, 1010768, 1011153, 1011216, 1009450,\n",
    "    1017297, 1010807, 1011283, 1010960, 1010998, 1017298, \n",
    "    1011013, 1011200, 1011207, 1011215, 1017299, 1011111, \n",
    "    1011340, 1009533, 1011018, 1009162, 1009307, 1011372,\n",
    "    1015000, 1011211, 1009165, 1010799, 1009424, 1011249,\n",
    "    1011110, 1009209, 1011285, 1011350, 1015006, 1011112,\n",
    "    1009299, 1011041, 1011002, 1017319, 1009661, 1009359,\n",
    "    1011299, 1011279, 1017478, 1010360, 1009552, 1009331,\n",
    "    1017318, 1010747, 1011352, 1009622, 1009340, 1010948,\n",
    "    1010970, 1010803, 1009709, 1014996, 1010941, 1011325,\n",
    "    1009684, 1016825, 1011044, 1011008, 1011368, 1010666,\n",
    "    1011198, 1010759, 1010953, 1011323, 1011121, 1011382,\n",
    "    1010758, 1010954, 1009572, 1011418, 1010336, 1009363,\n",
    "    1011336, 1011265, 1010738, 1015239, 1011089, 1010683,\n",
    "    1015002, 1010739, 1014973, 1009365, 1011271, 1009600,\n",
    "    1009724, 1010756, 1011024, 1011303, 1011373, 1009726,\n",
    "    1011410, 1011379, 1011269, 1011078, 1011109, 1010370,\n",
    "    1010699, 1011214, 1011164, 1010686, 1010668, 1009153,\n",
    "    1009599, 1009176, 1009183, 1010850, 1009205, 1017472,\n",
    "    1017317, 1011190, 1010813, 1011140, 1009231, 1011270,\n",
    "    1010777, 1010774, 1009259, 1010776, 1011165, 1010780,\n",
    "    1010883, 1017479, 1011281, 1009211, 1011067, 1010355,\n",
    "    1010672, 1010771, 1009294, 1011201, 1010832, 1009556,\n",
    "    1010709, 1011400, 1011046, 1009604, 1010812, 1009196,\n",
    "    1009630, 1010679, 1011193, 1010810, 1011308, 1017476,\n",
    "    1011148, 1009394, 1009395, 1009409, 1010751, 1011320,\n",
    "    1010796, 1011205, 1010324, 1011315, 1010825, 1011166,\n",
    "    1009674, 1017576, 1009329, 1009656, 1010359, 1009654,\n",
    "    1011003, 1011000, 1010753, 1009644, 1011172, 1009631,\n",
    "    1011062, 1010327, 1010326, 1010901, 1009625, 1014905,\n",
    "    1012295, 1009491\n",
    "]\n",
    "\n",
    "keywordsForDeletion = [\n",
    "    'MAA', '(MAA)', 'LEGO', 'dok',\n",
    "    '(Age of Apocalypse)',\n",
    "    '(House of M)',\n",
    "    '(Marvel Zombies)',\n",
    "    '(X-Men: Battle of the Atom)',\n",
    "    '(USM)',\n",
    "    '(Earth',\n",
    "    '(1602)',\n",
    "    '(Ultimate)',\n",
    "    '(HAS)',\n",
    "    '(Marvel: Avengers Alliance)',\n",
    "    '(Marvel Heroes)',\n",
    "    '(Marvel War of Heroes)',\n",
    "    '(Iron Man 3 - The Official Game)'\n",
    "]"
   ]
  },
  {
   "cell_type": "code",
   "execution_count": 3,
   "metadata": {
    "collapsed": true
   },
   "outputs": [],
   "source": [
    "f = open('../characters_for_nodes.json')\n",
    "nodes = json.load(f)\n",
    "f.close()\n",
    "\n",
    "f = open('../links_between_characters.json')\n",
    "links = json.load(f)\n",
    "f.close()"
   ]
  },
  {
   "cell_type": "code",
   "execution_count": 4,
   "metadata": {
    "collapsed": true
   },
   "outputs": [],
   "source": [
    "n_links = len(links)\n",
    "n_nodes = len(nodes)\n",
    "deleted = []"
   ]
  },
  {
   "cell_type": "code",
   "execution_count": 5,
   "metadata": {
    "collapsed": true
   },
   "outputs": [],
   "source": [
    "# Delete by keywords and ids\n",
    "\n",
    "def good_node(node):\n",
    "    if (any(keyword in node['name'] for keyword in keywordsForDeletion)) or (node['id'] in idsForDeletion):\n",
    "        remove_bad_links(node['id'])\n",
    "        deleted.append(node['name'])\n",
    "        return False\n",
    "    return True\n",
    "\n",
    "def remove_bad_links(id):\n",
    "    global links \n",
    "    links = [link for link in links if not (link['source'] == id or link['target'] == id)]\n",
    "                          \n",
    "nodes = [node for node in nodes if good_node(node)]"
   ]
  },
  {
   "cell_type": "code",
   "execution_count": 6,
   "metadata": {},
   "outputs": [
    {
     "name": "stdout",
     "output_type": "stream",
     "text": [
      "26  nodes deleted\n",
      "543  links deleted\n"
     ]
    }
   ],
   "source": [
    "print(n_nodes - len(nodes), ' nodes deleted')\n",
    "print(n_links - len(links), ' links deleted')"
   ]
  },
  {
   "cell_type": "code",
   "execution_count": 7,
   "metadata": {},
   "outputs": [
    {
     "name": "stdout",
     "output_type": "stream",
     "text": [
      "List of deleted characters:\n",
      " ['Ben Grimm', 'Hulk (Marvel Zombies)', 'Peter Parker', 'Spider-Man (Marvel Zombies)', 'Spider-Man (Noir)', 'Squadron Sinister', 'Stepford Cuckoos', 'Stephen Strange', 'Steve Rogers', 'Stone Men', 'Stranger', 'Sue Storm', 'Susan Delgado', \"T'Challa\", 'Talkback (Chase Stein)', 'Ted Forrester', 'Thaddeus Ross', 'The Call', 'The Hand', 'The Phantom', 'Thor (Goddess of Thunder)', 'Toad Men', 'Tomas', 'Triathlon', 'U-Foes', 'Victor Von Doom']\n"
     ]
    }
   ],
   "source": [
    "print('List of deleted characters:\\n', deleted)"
   ]
  },
  {
   "cell_type": "code",
   "execution_count": 8,
   "metadata": {
    "collapsed": true
   },
   "outputs": [],
   "source": [
    "f = open('../characters_for_nodes.json', 'w')\n",
    "f.seek(0)\n",
    "f.truncate()\n",
    "json.dump(nodes, f, indent=2)      \n",
    "f.close()\n",
    "\n",
    "f = open('../links_between_characters.json', 'w')\n",
    "f.seek(0)\n",
    "f.truncate()\n",
    "json.dump(links, f, indent=2)      \n",
    "f.close()"
   ]
  }
 ],
 "metadata": {
  "kernelspec": {
   "display_name": "Python 3",
   "language": "python",
   "name": "python3"
  },
  "language_info": {
   "codemirror_mode": {
    "name": "ipython",
    "version": 3
   },
   "file_extension": ".py",
   "mimetype": "text/x-python",
   "name": "python",
   "nbconvert_exporter": "python",
   "pygments_lexer": "ipython3",
   "version": "3.6.3"
  }
 },
 "nbformat": 4,
 "nbformat_minor": 2
}
