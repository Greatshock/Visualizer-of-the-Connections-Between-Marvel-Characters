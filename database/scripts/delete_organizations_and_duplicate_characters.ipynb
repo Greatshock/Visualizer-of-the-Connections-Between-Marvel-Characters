{
 "cells": [
  {
   "cell_type": "code",
   "execution_count": 236,
   "metadata": {
    "collapsed": true
   },
   "outputs": [],
   "source": [
    "import json"
   ]
  },
  {
   "cell_type": "code",
   "execution_count": 237,
   "metadata": {},
   "outputs": [],
   "source": [
    "idsForDeletion = [\n",
    "    1009144, 1011367, 1009487, 1010685, 1015280, 1010806,\n",
    "    1017292, 1011387, 1009496, 1010757, 1011083, 1009732,\n",
    "    1017294, 1017316, 1011421, 1011351, 1011294, 1010698,\n",
    "    1017295, 1011023, 1011408, 1011388, 1011295, 1011277,\n",
    "    1017296, 1011107, 1010768, 1011153, 1011216, 1009450,\n",
    "    1017297, 1010807, 1011283, 1010960, 1010998, 1017298, \n",
    "    1011013, 1011200, 1011207, 1011215, 1017299, 1011111, \n",
    "    1011340, 1009533, 1011018, 1009162, 1009307, 1011372,\n",
    "    1015000, 1011211, 1009165, 1010799, 1009424, 1011249,\n",
    "    1011110, 1009209, 1011285, 1011350, 1015006, 1011112,\n",
    "    1009299, 1011041, 1011002, 1017319, 1009661, 1009359,\n",
    "    1011299, 1011279, 1017478, 1010360, 1009552, 1009331,\n",
    "    1017318, 1010747, 1011352, 1009622, 1009340, 1010948,\n",
    "    1010970, 1010803, 1009709, 1014996, 1010941, 1011325,\n",
    "    1009684, 1016825, 1011044, 1011008, 1011368, 1010666,\n",
    "    1011198, 1010759, 1010953, 1011323, 1011121, 1011382,\n",
    "    1010758, 1010954, 1009572, 1011418, 1010336, 1009363,\n",
    "    1011336, 1011265, 1010738, 1015239, 1011089, 1010683,\n",
    "    1015002, 1010739, 1014973, 1009365, 1011271, 1009600,\n",
    "    1009724, 1010756, 1011024, 1011303, 1011373, 1009726,\n",
    "    1011410, 1011379, 1011269, 1011078, 1011109\n",
    "]\n",
    "\n",
    "keywordsForDeletion = [\n",
    "    'MAA', '(MAA)', 'LEGO', 'dok',\n",
    "    '(Age of Apocalypse)',\n",
    "    '(USM)',\n",
    "    '(Earth)',\n",
    "    '(1602)',\n",
    "    '(Ultimate)',\n",
    "    '(HAS)',\n",
    "    '(Marvel: Avengers Alliance)',\n",
    "    '(Marvel Heroes)',\n",
    "    '(Marvel War of Heroes)',\n",
    "    '(Iron Man 3 - The Official Game)'\n",
    "]"
   ]
  },
  {
   "cell_type": "code",
   "execution_count": 238,
   "metadata": {
    "collapsed": true
   },
   "outputs": [],
   "source": [
    "f = open('../characters_for_nodes.json')\n",
    "nodes = json.load(f)\n",
    "f.close()\n",
    "\n",
    "f = open('../links_between_characters.json')\n",
    "links = json.load(f)\n",
    "f.close()"
   ]
  },
  {
   "cell_type": "code",
   "execution_count": 239,
   "metadata": {},
   "outputs": [],
   "source": [
    "n_links = len(links)\n",
    "n_nodes = len(nodes)\n",
    "deleted = []"
   ]
  },
  {
   "cell_type": "code",
   "execution_count": 240,
   "metadata": {},
   "outputs": [],
   "source": [
    "# Delete by keywords and ids\n",
    "\n",
    "def good_node(node):\n",
    "    if (any(keyword in node['name'] for keyword in keywordsForDeletion)) or (node['id'] in idsForDeletion):\n",
    "        remove_bad_links(node['id'])\n",
    "        deleted.append(node['name'])\n",
    "        return False\n",
    "    return True\n",
    "\n",
    "def remove_bad_links(id):\n",
    "    global links \n",
    "    links = [link for link in links if not (link['source'] == id or link['target'] == id)]\n",
    "                          \n",
    "nodes = [node for node in nodes if good_node(node)]"
   ]
  },
  {
   "cell_type": "code",
   "execution_count": 241,
   "metadata": {},
   "outputs": [
    {
     "name": "stdout",
     "output_type": "stream",
     "text": [
      "277  nodes deleted\n",
      "6018  links deleted\n"
     ]
    }
   ],
   "source": [
    "print(n_nodes - len(nodes), ' nodes deleted')\n",
    "print(n_links - len(links), ' links deleted')"
   ]
  },
  {
   "cell_type": "code",
   "execution_count": 242,
   "metadata": {},
   "outputs": [
    {
     "name": "stdout",
     "output_type": "stream",
     "text": [
      "List of deleted characters:\n",
      " ['Abomination (Ultimate)', 'Ancient One (Ultimate)', 'Ultimate Spider-Man (USM)', 'Nova (USM)', 'White Tiger (USM)', 'Iron Fist (USM)', 'Power Man (USM)', 'Hulk (HAS)', 'Red Hulk (HAS)', 'A-Bomb (HAS)', 'Skaar (HAS)', 'Devil Dinosaur (HAS)', 'The Leader (HAS)', 'Iron Man/Tony Stark (MAA)', 'Captain America/Steve Rogers (MAA)', 'Thor (MAA)', 'Hulk/Bruce Banner (MAA)', 'Hawkeye/Clint Barton (MAA)', 'Black Widow/Natasha Romanoff (MAA)', 'Falcon/Sam Wilson (MAA)', 'She-Hulk (HAS)', 'Daredevil (LEGO Marvel Super Heroes)', 'Iron Man (LEGO Marvel Super Heroes)', 'Captain America (LEGO Marvel Super Heroes)', 'Black Widow (LEGO Marvel Super Heroes)', 'Wolverine (LEGO Marvel Super Heroes)', 'Nick Fury (LEGO Marvel Super Heroes)', 'Loki (LEGO Marvel Super Heroes)', 'Dr. Strange (Marvel: Avengers Alliance)', 'Invisible Woman (Marvel: Avengers Alliance)', 'Thor (Marvel: Avengers Alliance)', 'Hulk (Marvel: Avengers Alliance)', 'War Machine (Marvel: Avengers Alliance)', 'Spider-Man (Marvel: Avengers Alliance)', 'Punisher (Marvel: Avengers Alliance)', 'Cable (Marvel: Avengers Alliance)', 'Scarlet Witch (Marvel Heroes)', 'Storm (Marvel Heroes)', 'Iron Man (Marvel Heroes)', 'Hawkeye (Marvel Heroes)', 'Daredevil (Marvel Heroes)', 'Thing (Marvel Heroes)', 'Rocket Raccoon (Marvel Heroes)', 'Thor (Marvel Heroes)', 'Deadpool (Deadpool)', 'Mister Sinister (Deadpool)', 'Rogue (Deadpool)', 'Iron Man (Iron Man 3 - The Official Game)', 'M.O.D.O.K. (Iron Man 3 - The Official Game)', 'War Machine (Iron Man 3 - The Official Game)', 'Crimson Dynamo (Iron Man 3 - The Official Game)', 'Gamora (Marvel War of Heroes)', 'Wolverine (Marvel War of Heroes)', 'Iron Man (Marvel War of Heroes)', 'Captain America (Marvel War of Heroes)', 'Thor (Marvel War of Heroes)', 'Ghost Rider (Marvel War of Heroes)', 'Black Bolt (Marvel War of Heroes)', 'She-Hulk (Marvel War of Heroes)', 'Spider-Man (LEGO Marvel Super Heroes)', 'Hulk (LEGO Marvel Super Heroes)', 'A.I.M.', 'Deadpool (LEGO Marvel Super Heroes)', 'Askew-Tronics', 'Avengers', 'Brotherhood of Evil Mutants', 'Rogue (X-Men: Battle of the Atom)', 'Fantastic Four', 'Force Works', 'Guardsmen', 'Hellfire Club', 'Holocaust (Age of Apocalypse)', 'Hydra', 'Imperial Guard', 'Inhumans', 'Marauders', 'Mongu (Unrevealed)', 'Iron Patriot', 'Jean Grey', 'Reavers', 'S.H.I.E.L.D.', 'Serpent Society', 'Skullbuster (Cylla Markham)', 'Stark Industries', 'The Watchers', 'Ultimatum', 'Vanisher (Ultimate)', 'Weapon X', 'X-Force', 'X-Men', 'X.S.E.', 'Atlas (Team)', 'Thunderbolts', 'Violations', 'New Warriors', 'Nextwave', 'Young Avengers', 'Giant-dok', 'Hulk-dok', 'Spider-dok', 'Wolver-dok', 'X-Factor', 'X-Factor Investigations', 'Runaways', 'Champions', 'Omega Flight', 'Illuminati', 'Heroes For Hire', 'Loners', 'Frightful Four', 'Ultimates', 'X-Statix', 'Eternals', 'Abyss (Age of Apocalypse)', 'Beast (Ultimate)', 'Black Cat (Ultimate)', 'Black Widow (Ultimate)', 'Callisto (Age of Apocalypse)', 'Captain America (Ultimate)', 'Captain Britain (Ultimate)', 'Carnage (Ultimate)', 'Colossus (Ultimate)', 'Cyclops (Ultimate)', 'Daredevil (Ultimate)', 'Dazzler (Ultimate)', 'Doctor Octopus (Ultimate)', 'Electro (Ultimate)', 'Elektra (Ultimate)', 'Giant-Man (Ultimate)', 'Green Goblin (Ultimate)', 'Iceman (Ultimate)', 'Invisible Woman (Ultimate)', 'Iron Man (Ultimate)', 'Jubilee (Age of Apocalypse)', 'Lizard (Ultimate)', 'Longshot (Ultimate)', 'Moira MacTaggert (Ultimate)', 'Magneto (Ultimate)', 'Magneto (Age of Apocalypse)', 'Jean Grey (Ultimate)', 'Mister Sinister (House of M)', 'Mr. Fantastic (Ultimate)', 'Mystique (Age of Apocalypse)', 'Mystique (House of M)', 'Professor X (Ultimate)', 'Proteus (Ultimate)', 'Proteus (House of M)', 'Quicksilver (Ultimate)', 'Quicksilver (Age of Apocalypse)', 'Rogue (Ultimate)', 'Rogue (Age of Apocalypse)', 'Sabretooth (Ultimate)', 'Sabretooth (Age of Apocalypse)', 'Sabretooth (House of M)', 'Scarlet Witch (Ultimate)', 'Scarlet Witch (Age of Apocalypse)', 'Shadow King (Age of Apocalypse)', 'Shadowcat (Ultimate)', 'Shadowcat (Age of Apocalypse)', 'Silver Samurai (Age of Apocalypse)', 'Storm (Ultimate)', 'Storm (Age of Apocalypse)', 'Sunfire (Age of Apocalypse)', 'Thing (Ultimate)', 'Unus (Ultimate)', 'Unus (Age of Apocalypse)', 'Vanisher (Age of Apocalypse)', 'Wasp (Ultimate)', 'Wild Child (Age of Apocalypse)', 'Wolfsbane (Age of Apocalypse)', 'The Initiative', 'Marvel Zombies', 'Hulk (Ultimate)', 'Wolverine (Ultimate)', 'Nick Fury (Ultimate)', 'Morlocks', 'Spider-Man (Ultimate)', 'Fantastic Four (Ultimate)', 'The Order', 'Defenders', 'Invaders', 'Thor (Ultimate)', 'Great Lakes Avengers', 'Hellions (Squad)', 'Spider-Man (1602)', 'Starjammers', 'Scorpion (Ultimate)', 'The 198', 'Imperfects', 'Human Torch (Ultimate)', 'Doctor Doom (Ultimate)', 'Deviants', 'X-Men (Ultimate)', 'The Santerians', 'Fantastick Four', 'The Twelve', 'Warbound', 'Venom (Ultimate)', 'Mystique (Ultimate)', 'Black Panther (Ultimate)', 'Hawkeye (Ultimate)', 'Blob (Ultimate)', 'Proemial Gods', 'Agents of Atlas', 'Luminals', 'Mary Jane Watson (Ultimate)', 'Purifiers', 'The Renegades', 'The Liberty Legion', 'The Liberteens', 'Harry Osborn (Ultimate)', 'Firestar (Ultimate)', 'Bishop (Ultimate)', 'Stryfe (Ultimate)', 'War Machine (Ultimate)', 'Red Ghost (Ultimate)', 'Valkyrie (Ultimate)', 'Red 9', 'Cable (Ultimate)', 'Apocalypse (Ultimate)', 'Mister Sinister (Ultimate)', 'Onslaught (Ultimate)', 'Sinister Six', 'Newton Destine', 'New X-Men', 'Young X-Men', 'Masters of Evil', 'Lords of Avalon', 'Generation X', 'The Enforcers', 'The Howling Commandos', 'Guardians of the Galaxy', 'Next Avengers', 'Sentinels', 'Alpha Flight (Ultimate)', \"Salem's Seven (Ultimate)\", 'New Mutants', 'Nightcrawler (Ultimate)', 'Angel (Ultimate)', 'MI: 13', 'Marvel Apes', 'Payback', 'True Believers', 'Doctor Strange (Ultimate)', 'Dark Avengers', 'Secret Warriors', 'MS2', 'Sons of the Tiger', 'Iron Cross Army', 'Amazoness', 'Dark X-Men', 'Pet Avengers', 'She-Hulk (Ultimate)', 'Lightning Lords of Nepal', 'Confederates of the Curious', 'X-Babies', 'Lethal Legion', 'Brotherhood of Mutants (Ultimate)', 'George Stacy (Ultimate)', 'Crusher Hogan (Ultimate)', 'Dormammu (Ultimate)', 'Forge (Ultimate)', 'Gwen Stacy (Ultimate)', 'Hammerhead (Ultimate)', 'Hellfire Club (Ultimate)', 'Deathstrike (Ultimate)', 'Moon Knight (Ultimate)', 'Clea (Ultimate)', 'Reavers (Ultimate)', 'Shang-Chi (Ultimate)', 'Skrulls (Ultimate)', 'Stacy X (Ultimate)', 'Thanos (Ultimate)', 'Rick Jones (Ultimate)', 'Wong (Ultimate)', 'Avengers (Ultimate)', 'Super Hero Squad']\n"
     ]
    }
   ],
   "source": [
    "print('List of deleted characters:\\n', deleted)"
   ]
  },
  {
   "cell_type": "code",
   "execution_count": 243,
   "metadata": {
    "collapsed": true
   },
   "outputs": [],
   "source": [
    "f = open('../characters_for_nodes.json', 'w')\n",
    "f.seek(0)\n",
    "f.truncate()\n",
    "json.dump(nodes, f, indent=2)      \n",
    "f.close()\n",
    "\n",
    "f = open('../links_between_characters.json', 'w')\n",
    "f.seek(0)\n",
    "f.truncate()\n",
    "json.dump(links, f, indent=2)      \n",
    "f.close()"
   ]
  }
 ],
 "metadata": {
  "kernelspec": {
   "display_name": "Python 3",
   "language": "python",
   "name": "python3"
  },
  "language_info": {
   "codemirror_mode": {
    "name": "ipython",
    "version": 3
   },
   "file_extension": ".py",
   "mimetype": "text/x-python",
   "name": "python",
   "nbconvert_exporter": "python",
   "pygments_lexer": "ipython3",
   "version": "3.6.3"
  }
 },
 "nbformat": 4,
 "nbformat_minor": 2
}
