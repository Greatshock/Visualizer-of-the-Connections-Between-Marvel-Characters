{
 "cells": [
  {
   "cell_type": "code",
   "execution_count": 47,
   "metadata": {
    "collapsed": true
   },
   "outputs": [],
   "source": [
    "import json\n",
    "from collections import Counter"
   ]
  },
  {
   "cell_type": "code",
   "execution_count": 48,
   "metadata": {
    "collapsed": true
   },
   "outputs": [],
   "source": [
    "def create_file_without_duplicates(input_path, output_path):\n",
    "\n",
    "    input_f = open(input_path, 'r')\n",
    "    data = json.load(input_f)\n",
    "    print('Took ' + str(len(data)) + ' objects from ' + input_path)\n",
    "    input_f.close()\n",
    "    \n",
    "    ids = [ item['id'] for item in data ]\n",
    "    unique = [ data[ ids.index(id) ] for id in set(ids) ]\n",
    "    print('Found ' + str(len(data) - len(unique)) + ' duplicates')\n",
    "    \n",
    "    output_f = open(output_path, 'w')\n",
    "    json.dump(unique, output_f, indent=2)\n",
    "    print('Output ' + str(len(unique)) + ' objects to ' + output_path)\n",
    "    output_f.close()"
   ]
  },
  {
   "cell_type": "code",
   "execution_count": 49,
   "metadata": {},
   "outputs": [
    {
     "name": "stdout",
     "output_type": "stream",
     "text": [
      "Took 1491 objects from ../marvel_api/data/marvel_db_characters.json\n",
      "Found 0 duplicates\n",
      "Output 1491 objects to characters.json\n"
     ]
    }
   ],
   "source": [
    "create_file_without_duplicates('../marvel_api/data/marvel_db_characters.json', 'characters.json')"
   ]
  },
  {
   "cell_type": "code",
   "execution_count": 50,
   "metadata": {},
   "outputs": [
    {
     "name": "stdout",
     "output_type": "stream",
     "text": [
      "Took 40877 objects from ../marvel_api/data/marvel_db_comics.json\n",
      "Found 5258 duplicates\n",
      "Output 35619 objects to comics.json\n"
     ]
    }
   ],
   "source": [
    "create_file_without_duplicates('../marvel_api/data/marvel_db_comics.json', 'comics.json')"
   ]
  }
 ],
 "metadata": {
  "kernelspec": {
   "display_name": "Python 3",
   "language": "python",
   "name": "python3"
  },
  "language_info": {
   "codemirror_mode": {
    "name": "ipython",
    "version": 3
   },
   "file_extension": ".py",
   "mimetype": "text/x-python",
   "name": "python",
   "nbconvert_exporter": "python",
   "pygments_lexer": "ipython3",
   "version": "3.6.3"
  }
 },
 "nbformat": 4,
 "nbformat_minor": 2
}
