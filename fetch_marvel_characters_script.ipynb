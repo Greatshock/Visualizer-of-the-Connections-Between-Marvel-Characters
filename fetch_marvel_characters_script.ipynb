{
 "cells": [
  {
   "cell_type": "code",
   "execution_count": 119,
   "metadata": {
    "collapsed": true
   },
   "outputs": [],
   "source": [
    "import time, hashlib, requests, json"
   ]
  },
  {
   "cell_type": "code",
   "execution_count": 120,
   "metadata": {
    "collapsed": true
   },
   "outputs": [],
   "source": [
    "# Marvel API data\n",
    "endpoint = \"https://gateway.marvel.com/\"\n",
    "getCharsMethod = \"v1/public/characters\"\n",
    "apiKey = \"6818695382c18243570eb27db6d83eb3\"\n",
    "privateKey = \"0ca11a0a359ac649d46d934064349266dde56d3d\"\n",
    "limit = \"100\""
   ]
  },
  {
   "cell_type": "code",
   "execution_count": 121,
   "metadata": {},
   "outputs": [],
   "source": [
    "# Open file for storing the database\n",
    "charactersDb = open('characters.json', 'w')\n",
    "\n",
    "# Clear the file to update it\n",
    "charactersDb.seek(0)\n",
    "charactersDb.truncate()\n",
    "\n",
    "# Total number of characters variable\n",
    "totalCharsFetched = 0\n",
    "totalChars = 0"
   ]
  },
  {
   "cell_type": "code",
   "execution_count": 122,
   "metadata": {},
   "outputs": [],
   "source": [
    "characters = []\n",
    "# Cycle through the database\n",
    "for offset in range(0, 1500, 100):\n",
    "    \n",
    "    # Generate md5 hash from both api keys and timestamp\n",
    "    timestamp = str(int(time.time()))\n",
    "    hs = hashlib.md5(timestamp.encode('utf-8') + privateKey.encode('utf-8') + apiKey.encode('utf-8')).hexdigest()\n",
    "    \n",
    "    # Make the request\n",
    "    response = requests.get(endpoint + getCharsMethod\n",
    "                            + \"?\" + \"orderBy=name\"\n",
    "                            + \"&\" + \"offset=\" + str(offset) \n",
    "                            + \"&\" + \"limit=\" + limit\n",
    "                            + \"&\" + \"ts=\" + timestamp \n",
    "                            + \"&\" + \"apikey=\" + apiKey\n",
    "                            + \"&\" + \"hash=\" + hs)\n",
    "    \n",
    "    # Break if at least 1 \n",
    "    # request was unsuccessful\n",
    "    if(response.status_code != 200):\n",
    "        print(\"An error \" + response.status_code + \" occured!\")\n",
    "        break\n",
    "    \n",
    "    # Extract the data about characters\n",
    "    data = response.json()['data']\n",
    "    \n",
    "    # Increment total characters fetched variable\n",
    "    totalCharsFetched += data['count']\n",
    "    # Get the total number of characters available via API\n",
    "    if(offset == 0):\n",
    "        totalChars = data['total']\n",
    "    \n",
    "    # Write results to the file\n",
    "    results = data['results']\n",
    "    for character in results:\n",
    "        characters.append(character)\n",
    "    \n",
    "    # Sleep for some time\n",
    "    time.sleep(1)\n",
    "\n",
    "# Write to the file\n",
    "json.dump(characters, charactersDb, indent=2)"
   ]
  },
  {
   "cell_type": "code",
   "execution_count": 123,
   "metadata": {},
   "outputs": [
    {
     "name": "stdout",
     "output_type": "stream",
     "text": [
      "Total characters available via Marvel API: 1491\n",
      "Characters fetched: 1491\n",
      "OK! All characters has been fetched!\n"
     ]
    }
   ],
   "source": [
    "# Check if all characters are fetched\n",
    "print('Total characters available via Marvel API: ' + str(totalChars))\n",
    "print('Characters fetched: ' + str(totalCharsFetched))\n",
    "if(totalCharsFetched == totalChars):\n",
    "    print('OK! All characters has been fetched!')\n",
    "else:\n",
    "    print('Error! Only ' + str(totalCharsFetched) + '/' + str(totalChars) + ' have been fetched!' )\n",
    "# Close database file\n",
    "charactersDb.close()"
   ]
  }
 ],
 "metadata": {
  "kernelspec": {
   "display_name": "Python 3",
   "language": "python",
   "name": "python3"
  },
  "language_info": {
   "codemirror_mode": {
    "name": "ipython",
    "version": 3
   },
   "file_extension": ".py",
   "mimetype": "text/x-python",
   "name": "python",
   "nbconvert_exporter": "python",
   "pygments_lexer": "ipython3",
   "version": "3.6.3"
  }
 },
 "nbformat": 4,
 "nbformat_minor": 2
}
