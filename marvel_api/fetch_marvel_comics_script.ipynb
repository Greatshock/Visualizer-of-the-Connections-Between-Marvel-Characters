{
 "cells": [
  {
   "cell_type": "code",
   "execution_count": null,
   "metadata": {
    "collapsed": true
   },
   "outputs": [],
   "source": [
    "import time, hashlib, requests, json"
   ]
  },
  {
   "cell_type": "code",
   "execution_count": null,
   "metadata": {
    "collapsed": true
   },
   "outputs": [],
   "source": [
    "# Marvel API data\n",
    "endpoint = \"https://gateway.marvel.com/\"\n",
    "getCharsMethod = \"v1/public/comics\"\n",
    "apiKey = \"6818695382c18243570eb27db6d83eb3\"\n",
    "privateKey = \"0ca11a0a359ac649d46d934064349266dde56d3d\"\n",
    "limit = \"100\""
   ]
  },
  {
   "cell_type": "code",
   "execution_count": null,
   "metadata": {
    "collapsed": true
   },
   "outputs": [],
   "source": [
    "# Open file for storing the database\n",
    "comicsDb = open('data/marvel_db_comics.json', 'w')\n",
    "\n",
    "# Clear the file to update it\n",
    "comicsDb.seek(0)\n",
    "comicsDb.truncate()\n",
    "\n",
    "# Total number of comics variable\n",
    "totalComicsFetched = 0\n",
    "totalComics = 0"
   ]
  },
  {
   "cell_type": "code",
   "execution_count": null,
   "metadata": {
    "collapsed": true
   },
   "outputs": [],
   "source": [
    "comics = []\n",
    "firstIterationFlag = True\n",
    "# Cycle through the database\n",
    "for offset in range(0, 40900, 100):\n",
    "    \n",
    "    # Generate md5 hash from both api keys and timestamp\n",
    "    timestamp = str(int(time.time()))\n",
    "    hs = hashlib.md5(timestamp.encode('utf-8') + privateKey.encode('utf-8') + apiKey.encode('utf-8')).hexdigest()\n",
    "    \n",
    "    # Make the request\n",
    "    response = requests.get(endpoint + getCharsMethod\n",
    "                            + \"?\" + \"orderBy=title\"\n",
    "                            + \"&\" + \"offset=\" + str(offset) \n",
    "                            + \"&\" + \"limit=\" + limit\n",
    "                            + \"&\" + \"ts=\" + timestamp \n",
    "                            + \"&\" + \"apikey=\" + apiKey\n",
    "                            + \"&\" + \"hash=\" + hs)\n",
    "    \n",
    "    # Break if at least 1 \n",
    "    # request was unsuccessful\n",
    "    if(response.status_code != 200):\n",
    "        print(\"An error \" + str(response.status_code) + \" occured!\" + str(response.json()))\n",
    "        break\n",
    "    \n",
    "    # Extract the data about characters\n",
    "    data = response.json()['data']\n",
    "    \n",
    "    # Increment total characters fetched variable\n",
    "    totalComicsFetched += data['count']\n",
    "    # Get the total number of characters available via API\n",
    "    if(firstIterationFlag):\n",
    "        totalComics = data['total']\n",
    "        firstIterationFlag = False\n",
    "    \n",
    "    # Write results to the file\n",
    "    results = data['results']\n",
    "    for comic in results:\n",
    "        comics.append(comic)\n",
    "    \n",
    "    # Sleep for some time\n",
    "    # time.sleep(1)\n",
    "\n",
    "# Write to the file\n",
    "json.dump(comics, comicsDb, indent=2)"
   ]
  },
  {
   "cell_type": "code",
   "execution_count": null,
   "metadata": {
    "collapsed": true,
    "scrolled": true
   },
   "outputs": [],
   "source": [
    "# Check if all characters are fetched\n",
    "print('Total comics available via Marvel API: ' + str(totalComics))\n",
    "print('Comics fetched: ' + str(totalComicsFetched))\n",
    "if(totalComicsFetched == totalComics):\n",
    "    print('OK! All comics has been fetched!')\n",
    "else:\n",
    "    print('Error! Only ' + str(totalComicsFetched) + '/' + str(totalComics) + ' have been fetched!' )\n",
    "# Close database file\n",
    "comicsDb.close()"
   ]
  }
 ],
 "metadata": {
  "kernelspec": {
   "display_name": "Python 3",
   "language": "python",
   "name": "python3"
  },
  "language_info": {
   "codemirror_mode": {
    "name": "ipython",
    "version": 3
   },
   "file_extension": ".py",
   "mimetype": "text/x-python",
   "name": "python",
   "nbconvert_exporter": "python",
   "pygments_lexer": "ipython3",
   "version": "3.6.3"
  }
 },
 "nbformat": 4,
 "nbformat_minor": 2
}
