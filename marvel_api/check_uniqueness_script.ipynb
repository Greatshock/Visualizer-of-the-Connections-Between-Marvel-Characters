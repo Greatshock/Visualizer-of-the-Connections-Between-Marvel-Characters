{
 "cells": [
  {
   "cell_type": "code",
   "execution_count": 144,
   "metadata": {
    "collapsed": true
   },
   "outputs": [],
   "source": [
    "import json\n",
    "from collections import Counter"
   ]
  },
  {
   "cell_type": "code",
   "execution_count": 145,
   "metadata": {},
   "outputs": [
    {
     "name": "stdout",
     "output_type": "stream",
     "text": [
      "Total amount of comics: 40877\n",
      "Amount of unique comics: 35619\n",
      "--------------------------------\n",
      "Number of duplicates found: 5258\n"
     ]
    }
   ],
   "source": [
    "f = open('data/marvel_db_comics.json', 'r')\n",
    "\n",
    "data = json.load(f)\n",
    "\n",
    "comics = Counter()\n",
    "count = 0\n",
    "unique = 0\n",
    "\n",
    "for i in range(0, len(data)):\n",
    "    idx = data[i]['id']\n",
    "    comics[idx] += 1\n",
    "\n",
    "for comic in comics:\n",
    "    count += comics[comic]\n",
    "    \n",
    "for comic in comics:\n",
    "    if(comics[comic] > 1):\n",
    "        comics[comic] = 1\n",
    "    unique += comics[comic]\n",
    "\n",
    "    '''\n",
    "for i in range(0, len(data)):\n",
    "    if(data[i]['id'] == 37534):\n",
    "        print(i)\n",
    "        break\n",
    "'''\n",
    "\n",
    "print('Total amount of comics: ' + str(count))\n",
    "print('Amount of unique comics: ' + str(unique))\n",
    "print('--------------------------------')\n",
    "print('Number of duplicates found: ' + str(count - unique))\n",
    "\n",
    "f.close()"
   ]
  }
 ],
 "metadata": {
  "kernelspec": {
   "display_name": "Python 3",
   "language": "python",
   "name": "python3"
  },
  "language_info": {
   "codemirror_mode": {
    "name": "ipython",
    "version": 3
   },
   "file_extension": ".py",
   "mimetype": "text/x-python",
   "name": "python",
   "nbconvert_exporter": "python",
   "pygments_lexer": "ipython3",
   "version": "3.6.3"
  }
 },
 "nbformat": 4,
 "nbformat_minor": 2
}
