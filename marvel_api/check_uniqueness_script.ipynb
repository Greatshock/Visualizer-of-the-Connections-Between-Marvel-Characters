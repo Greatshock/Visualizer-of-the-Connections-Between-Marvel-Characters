{
 "cells": [
  {
   "cell_type": "code",
   "execution_count": 4,
   "metadata": {
    "collapsed": true
   },
   "outputs": [],
   "source": [
    "import json\n",
    "from collections import Counter"
   ]
  },
  {
   "cell_type": "code",
   "execution_count": 5,
   "metadata": {
    "collapsed": true
   },
   "outputs": [],
   "source": [
    "def check_for_duplicates(file_path):\n",
    "\n",
    "    f = open(file_path, 'r')\n",
    "    data = json.load(f)\n",
    "\n",
    "    collection = Counter()\n",
    "    count = 0\n",
    "    unique = 0\n",
    "\n",
    "    for i in range(0, len(data)):\n",
    "        idx = data[i]['id']\n",
    "        collection[idx] += 1\n",
    "\n",
    "    for item in collection:\n",
    "        count += collection[item]\n",
    "    \n",
    "    for item in collection:\n",
    "        if(collection[item] > 1):\n",
    "            collection[item] = 1\n",
    "        unique += collection[item]\n",
    "\n",
    "    print('Total: ' + str(count))\n",
    "    print('Unique: ' + str(unique))\n",
    "    print('----------------')\n",
    "    print('Duplicates: ' + str(count - unique))\n",
    "\n",
    "    f.close()"
   ]
  },
  {
   "cell_type": "code",
   "execution_count": 6,
   "metadata": {},
   "outputs": [
    {
     "name": "stdout",
     "output_type": "stream",
     "text": [
      ">>> COMICS <<<\n",
      "Total: 40877\n",
      "Unique: 35619\n",
      "----------------\n",
      "Duplicates: 5258\n",
      "\n",
      "\n",
      ">>> CHARS <<<\n",
      "Total: 1491\n",
      "Unique: 1491\n",
      "----------------\n",
      "Duplicates: 0\n"
     ]
    }
   ],
   "source": [
    "print('>>> COMICS <<<')\n",
    "check_for_duplicates('data/marvel_db_comics.json')\n",
    "print('\\n')\n",
    "print('>>> CHARS <<<')\n",
    "check_for_duplicates('data/marvel_db_characters.json')"
   ]
  }
 ],
 "metadata": {
  "kernelspec": {
   "display_name": "Python 3",
   "language": "python",
   "name": "python3"
  },
  "language_info": {
   "codemirror_mode": {
    "name": "ipython",
    "version": 3
   },
   "file_extension": ".py",
   "mimetype": "text/x-python",
   "name": "python",
   "nbconvert_exporter": "python",
   "pygments_lexer": "ipython3",
   "version": "3.6.3"
  }
 },
 "nbformat": 4,
 "nbformat_minor": 2
}
